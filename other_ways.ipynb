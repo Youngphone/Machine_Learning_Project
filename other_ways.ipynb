{
 "cells": [
  {
   "cell_type": "code",
   "execution_count": 1,
   "metadata": {},
   "outputs": [],
   "source": [
    "import numpy as np                  \n",
    "import  pandas as pd\n",
    "\n",
    "from sklearn import preprocessing\n",
    "import seaborn as sns\n",
    "import matplotlib.pyplot as plt\n",
    "import warnings\n",
    "from sklearn.model_selection import train_test_split\n",
    "from sklearn.metrics import accuracy_score\n",
    "\n",
    "from sklearn import neighbors\n",
    "from sklearn import naive_bayes\n",
    "from sklearn import tree\n",
    "from sklearn import ensemble\n",
    "from sklearn import svm\n",
    "from sklearn import neural_network"
   ]
  },
  {
   "cell_type": "code",
   "execution_count": 2,
   "metadata": {},
   "outputs": [],
   "source": [
    "#防止报错\n",
    "warnings.filterwarnings('ignore')\n",
    "#读取数据\n",
    "voice = pd.read_csv('voice.csv')\n",
    "#替换文本\n",
    "le = preprocessing.LabelEncoder()               \n",
    "voice[\"label\"] = le.fit_transform(voice[\"label\"])\n",
    "\n",
    "voice[:]=preprocessing.MinMaxScaler().fit_transform(voice)\n",
    "\n",
    "train, test = train_test_split(voice, test_size=0.3) #7：3划分训练集和数据集\n",
    "\n",
    "#使用所有的变量来训练\n",
    "x_train = train.iloc[:,:-1]\n",
    "y_train = train[\"label\"]\n",
    "x_test = test.iloc[:,:-1]\n",
    "y_test = test[\"label\"]\n",
    "\n",
    "#只使用三个变量来训练\n",
    "x_train1 = train[[\"meanfun\",\"IQR\",\"Q25\",\"sd\"]]\n",
    "y_train1 = train[\"label\"]\n",
    "x_test1 = test[[\"meanfun\",\"IQR\",\"Q25\",\"sd\"]]\n",
    "y_test1 = test[\"label\"]"
   ]
  },
  {
   "cell_type": "code",
   "execution_count": 4,
   "metadata": {},
   "outputs": [],
   "source": [
    "def classify(model,x_train,y_train,x_test,y_test):\n",
    "    from sklearn.metrics import classification_report\n",
    "    target_names = ['female', 'male']\n",
    "    model.fit(x_train,y_train)\n",
    "    y_pred=model.predict(x_test)\n",
    "    print(classification_report(y_test, y_pred, target_names=target_names, digits=6))"
   ]
  },
  {
   "cell_type": "code",
   "execution_count": 10,
   "metadata": {},
   "outputs": [],
   "source": [
    "def knn_correct(k,x_train,y_train,x_test,y_test):\n",
    "    correct_rate = []\n",
    "    K=range(1,k)\n",
    "    for i in K:\n",
    "        knn = neighbors.KNeighborsClassifier(n_neighbors = i)\n",
    "        knn.fit(x_train, y_train)\n",
    "        y_pred = knn.predict(x_test)\n",
    "        correct_rate.append(np.mean(y_pred == y_test))\n",
    "    kloc = correct_rate.index(max(correct_rate))\n",
    "    print(\"Highest correct_rate is %s occurs at k=%s.\" % (correct_rate[kloc], K[kloc]))\n",
    "\n",
    "    plt.plot(K, correct_rate, color='blue', linestyle='dashed', marker='o',\n",
    "             markerfacecolor='red', markersize=10)\n",
    "    plt.title('Correct Rate vs. K Value')\n",
    "    plt.xlabel('K')\n",
    "    plt.ylabel('Correct Rate')\n",
    "    plt.show()\n",
    "    return K[kloc]"
   ]
  },
  {
   "cell_type": "code",
   "execution_count": 11,
   "metadata": {},
   "outputs": [
    {
     "name": "stdout",
     "output_type": "stream",
     "text": [
      "Highest correct_rate is 0.9810725552050473 occurs at k=4.\n"
     ]
    },
    {
     "data": {
      "image/png": "[encoded data removed]",
      "text/plain": [
       "<Figure size 432x288 with 1 Axes>"
      ]
     },
     "metadata": {},
     "output_type": "display_data"
    }
   ],
   "source": [
    "k=knn_correct(21,x_train,y_train,x_test,y_test)"
   ]
  },
  {
   "cell_type": "code",
   "execution_count": 12,
   "metadata": {},
   "outputs": [
    {
     "name": "stdout",
     "output_type": "stream",
     "text": [
      "             precision    recall  f1-score   support\n",
      "\n",
      "     female   0.979210  0.983299  0.981250       479\n",
      "       male   0.982979  0.978814  0.980892       472\n",
      "\n",
      "avg / total   0.981080  0.981073  0.981072       951\n",
      "\n"
     ]
    }
   ],
   "source": [
    "model = neighbors.KNeighborsClassifier(n_neighbors = k)\n",
    "classify(model,x_train,y_train,x_test,y_test)"
   ]
  },
  {
   "cell_type": "code",
   "execution_count": 13,
   "metadata": {},
   "outputs": [],
   "source": [
    "def svm_kernel(x_train,y_train,x_test,y_test):\n",
    "    rate=[]\n",
    "    kernel=['rbf','poly','linear']\n",
    "    for i in kernel:\n",
    "        model=svm.SVC(kernel=i).fit(x_train,y_train)\n",
    "        y_pred=model.predict(x_train)\n",
    "        print(i, ' in-sample accuracy in SVM: ', accuracy_score(y_train,y_pred))\n",
    "        y_pred=model.predict(x_test)\n",
    "        print(i, ' out-of-sample accuracy in SVM: ', accuracy_score(y_test,y_pred))\n",
    "        rate.append(accuracy_score(y_test,y_pred))\n",
    "    nloc = rate.index(max(rate))\n",
    "    print(\"Highest accuracy is %s occurs at %s kernel.\" % (rate[nloc], kernel[nloc]))\n",
    "    return kernel[nloc]"
   ]
  },
  {
   "cell_type": "code",
   "execution_count": 14,
   "metadata": {},
   "outputs": [],
   "source": [
    "def svm_correct(k,C,x_train,y_train,x_test,y_test):\n",
    "    correct_rate = []\n",
    "    C=range(1,C)\n",
    "    for i in C:\n",
    "        model=svm.SVC(kernel=k,C=i).fit(x_train,y_train)\n",
    "        model.fit(x_train, y_train)\n",
    "        y_pred = model.predict(x_test)\n",
    "        correct_rate.append(np.mean(y_pred == y_test))\n",
    "    cloc = correct_rate.index(max(correct_rate))\n",
    "    print(\"Highest correct_rate is %s occurs at C=%s.\" % (correct_rate[cloc], C[cloc]))\n",
    "\n",
    "    plt.plot(C, correct_rate, color='blue', linestyle='dashed', marker='o',\n",
    "             markerfacecolor='red', markersize=10)\n",
    "    plt.title('Correc Rate vs. C Value')\n",
    "    plt.xlabel('C')\n",
    "    plt.ylabel('Correct Rate')\n",
    "    plt.show()\n",
    "    return C[cloc]"
   ]
  },
  {
   "cell_type": "code",
   "execution_count": 15,
   "metadata": {},
   "outputs": [
    {
     "name": "stdout",
     "output_type": "stream",
     "text": [
      "rbf  in-sample accuracy in SVM:  0.9688768606224628\n",
      "rbf  out-of-sample accuracy in SVM:  0.964248159831756\n",
      "poly  in-sample accuracy in SVM:  0.871447902571042\n",
      "poly  out-of-sample accuracy in SVM:  0.8706624605678234\n",
      "linear  in-sample accuracy in SVM:  0.9747406405051872\n",
      "linear  out-of-sample accuracy in SVM:  0.9716088328075709\n",
      "Highest accuracy is 0.9716088328075709 occurs at linear kernel.\n"
     ]
    }
   ],
   "source": [
    "k=svm_kernel(x_train,y_train,x_test,y_test)"
   ]
  },
  {
   "cell_type": "code",
   "execution_count": 17,
   "metadata": {},
   "outputs": [
    {
     "name": "stdout",
     "output_type": "stream",
     "text": [
      "Highest correct_rate is 0.9737118822292324 occurs at C=2.\n"
     ]
    },
    {
     "data": {
      "image/png": "[encoded data removed]",
      "text/plain": [
       "<Figure size 432x288 with 1 Axes>"
      ]
     },
     "metadata": {},
     "output_type": "display_data"
    }
   ],
   "source": [
    "c=svm_correct(k,10,x_train,y_train,x_test,y_test)"
   ]
  },
  {
   "cell_type": "code",
   "execution_count": 18,
   "metadata": {},
   "outputs": [
    {
     "name": "stdout",
     "output_type": "stream",
     "text": [
      "             precision    recall  f1-score   support\n",
      "\n",
      "     female   0.982979  0.964509  0.973656       479\n",
      "       male   0.964657  0.983051  0.973767       472\n",
      "\n",
      "avg / total   0.973885  0.973712  0.973711       951\n",
      "\n"
     ]
    }
   ],
   "source": [
    "model=svm.SVC(kernel=k,C=c)\n",
    "classify(model,x_train,y_train,x_test,y_test)"
   ]
  },
  {
   "cell_type": "code",
   "execution_count": 19,
   "metadata": {},
   "outputs": [],
   "source": [
    "#Find the best parameter to prune the tree\n",
    "def dt_correct(n,x_train,y_train,x_test,y_test):\n",
    "    nodes = range(2, n)\n",
    "    correct_rate = []\n",
    "    for k in nodes:\n",
    "        model = tree.DecisionTreeClassifier(max_leaf_nodes=k)\n",
    "        model.fit(x_train, y_train)\n",
    "        y_pred = model.predict(x_test)\n",
    "        correct_rate.append(np.mean(y_pred == y_test))\n",
    "    kloc = correct_rate.index(max(correct_rate))\n",
    "    print(\"Highest correct_rate is %s occurs at n=%s.\" % (correct_rate[kloc], nodes[kloc]))\n",
    "    plt.plot(nodes, correct_rate, color='blue', linestyle='dashed', marker='o',\n",
    "             markerfacecolor='red', markersize=10)\n",
    "    plt.xlabel('Tree Size')\n",
    "    plt.ylabel('Cross-Validated MSE')\n",
    "    plt.show()\n",
    "    return nodes[kloc]"
   ]
  },
  {
   "cell_type": "code",
   "execution_count": 20,
   "metadata": {},
   "outputs": [
    {
     "name": "stdout",
     "output_type": "stream",
     "text": [
      "Highest correct_rate is 0.9652996845425867 occurs at n=8.\n"
     ]
    },
    {
     "data": {
      "image/png": "[encoded data removed]",
      "text/plain": [
       "<Figure size 432x288 with 1 Axes>"
      ]
     },
     "metadata": {},
     "output_type": "display_data"
    },
    {
     "name": "stdout",
     "output_type": "stream",
     "text": [
      "             precision    recall  f1-score   support\n",
      "\n",
      "     female   0.986900  0.943633  0.964781       479\n",
      "       male   0.945233  0.987288  0.965803       472\n",
      "\n",
      "avg / total   0.966220  0.965300  0.965288       951\n",
      "\n"
     ]
    }
   ],
   "source": [
    "n=dt_correct(10,x_train,y_train,x_test,y_test)\n",
    "pruned_tree = tree.DecisionTreeClassifier(criterion = 'gini', max_leaf_nodes = n)\n",
    "classify(pruned_tree,x_train,y_train,x_test,y_test)"
   ]
  }
 ],
 "metadata": {
  "kernelspec": {
   "display_name": "Python 3",
   "language": "python",
   "name": "python3"
  },
  "language_info": {
   "codemirror_mode": {
    "name": "ipython",
    "version": 3
   },
   "file_extension": ".py",
   "mimetype": "text/x-python",
   "name": "python",
   "nbconvert_exporter": "python",
   "pygments_lexer": "ipython3",
   "version": "3.6.5"
  }
 },
 "nbformat": 4,
 "nbformat_minor": 2
}
